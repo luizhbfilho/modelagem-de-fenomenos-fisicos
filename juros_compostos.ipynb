{
  "nbformat": 4,
  "nbformat_minor": 0,
  "metadata": {
    "colab": {
      "provenance": [],
      "authorship_tag": "ABX9TyPovaEKfEFC33i2+ETPI80+",
      "include_colab_link": true
    },
    "kernelspec": {
      "name": "python3",
      "display_name": "Python 3"
    },
    "language_info": {
      "name": "python"
    }
  },
  "cells": [
    {
      "cell_type": "markdown",
      "metadata": {
        "id": "view-in-github",
        "colab_type": "text"
      },
      "source": [
        "<a href=\"https://colab.research.google.com/github/luizhbfilho/modelagem-de-fenomenos-fisicos/blob/main/juros_compostos.ipynb\" target=\"_parent\"><img src=\"https://colab.research.google.com/assets/colab-badge.svg\" alt=\"Open In Colab\"/></a>"
      ]
    },
    {
      "cell_type": "code",
      "execution_count": 5,
      "metadata": {
        "id": "e6mG6Mpr91fB"
      },
      "outputs": [],
      "source": [
        "import math\n",
        "import time\n"
      ]
    },
    {
      "cell_type": "code",
      "source": [
        "# Definindo variáveis\n",
        "valor_inicial = float(input(\"Digite o valor inicial: \"))\n",
        "taxa_juros = float(input(\"Digite a taxa de juros anual: \"))\n",
        "numero_anos = int(input(\"Digite o número de anos: \"))\n",
        "\n",
        "# Função para calcular o montante\n",
        "def montante(valor_inicial, taxa_juros, numero_anos):\n",
        "  return valor_inicial * math.pow((1 + taxa_juros), numero_anos)\n",
        "\n",
        "# Imprimindo resultados\n",
        "print(\"Ano\", \"Valor Inicial\", \"Montante\", \"Juros\", \"Função\")\n",
        "print(\"-\", \"-\", \"-\", \"-\", \"-\")\n",
        "\n",
        "for ano in range(1, numero_anos + 1):\n",
        "  juros = montante(valor_inicial, taxa_juros, ano) - valor_inicial\n",
        "  funcao = f\"f(x) = {valor_inicial} + ({valor_inicial} * {taxa_juros:.2%}) * x**{ano}\"\n",
        "  print(ano, valor_inicial, montante(valor_inicial, taxa_juros, ano), juros, funcao)\n",
        "\n",
        "# Imprimindo o montante final\n",
        "print(\"Montante final:\", montante(valor_inicial, taxa_juros, numero_anos))"
      ],
      "metadata": {
        "colab": {
          "base_uri": "https://localhost:8080/"
        },
        "id": "IulJkqz6ApDN",
        "outputId": "47e33ce0-62ff-4588-93ba-dd4dcdbb6644"
      },
      "execution_count": 4,
      "outputs": [
        {
          "output_type": "stream",
          "name": "stdout",
          "text": [
            "Digite o valor inicial: 1000\n",
            "Digite a taxa de juros anual: 0.2\n",
            "Digite o número de anos: 5\n",
            "Ano Valor Inicial Montante Juros Função\n",
            "- - - - -\n",
            "1 1000.0 1200.0 200.0 f(x) = 1000.0 + (1000.0 * 20.00%) * x**1\n",
            "2 1000.0 1440.0 440.0 f(x) = 1000.0 + (1000.0 * 20.00%) * x**2\n",
            "3 1000.0 1727.9999999999998 727.9999999999998 f(x) = 1000.0 + (1000.0 * 20.00%) * x**3\n",
            "4 1000.0 2073.6 1073.6 f(x) = 1000.0 + (1000.0 * 20.00%) * x**4\n",
            "5 1000.0 2488.3199999999993 1488.3199999999993 f(x) = 1000.0 + (1000.0 * 20.00%) * x**5\n",
            "Montante final: 2488.3199999999993\n"
          ]
        }
      ]
    },
    {
      "cell_type": "code",
      "source": [
        "# Definindo variáveis\n",
        "valor_inicial = float(input(\"Digite o valor inicial: \"))\n",
        "taxa_juros = float(input(\"Digite a taxa de juros anual: \"))\n",
        "numero_anos = int(input(\"Digite o número de anos: \"))\n",
        "\n",
        "# Iniciando o cronômetro\n",
        "inicio = time.perf_counter_ns()\n",
        "\n",
        "# Calculando o montante\n",
        "montante = valor_inicial * math.pow((1 + taxa_juros), numero_anos)\n",
        "\n",
        "# Parando o cronômetro\n",
        "fim = time.perf_counter_ns()\n",
        "\n",
        "# Calculando o tempo decorrido\n",
        "tempo_decorrido = fim - inicio\n",
        "\n",
        "# Imprimindo o resultado\n",
        "print(f\"Tempo decorrido: {tempo_decorrido} nanossegundos\")\n",
        "print(f\"Montante: {montante}\")"
      ],
      "metadata": {
        "colab": {
          "base_uri": "https://localhost:8080/"
        },
        "id": "p6zqLRuiBx-V",
        "outputId": "82113807-92ad-40d8-a386-d11fc198f302"
      },
      "execution_count": 6,
      "outputs": [
        {
          "output_type": "stream",
          "name": "stdout",
          "text": [
            "Digite o valor inicial: 1000\n",
            "Digite a taxa de juros anual: 0.1\n",
            "Digite o número de anos: 10\n",
            "Tempo decorrido: 138615 nanossegundos\n",
            "Montante: 2593.7424601000025\n"
          ]
        }
      ]
    }
  ]
}