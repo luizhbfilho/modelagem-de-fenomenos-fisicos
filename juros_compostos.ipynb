{
  "nbformat": 4,
  "nbformat_minor": 0,
  "metadata": {
    "colab": {
      "provenance": [],
      "authorship_tag": "ABX9TyNTT0ilR8qE83G2SWqFo9Sy",
      "include_colab_link": true
    },
    "kernelspec": {
      "name": "python3",
      "display_name": "Python 3"
    },
    "language_info": {
      "name": "python"
    }
  },
  "cells": [
    {
      "cell_type": "markdown",
      "metadata": {
        "id": "view-in-github",
        "colab_type": "text"
      },
      "source": [
        "<a href=\"https://colab.research.google.com/github/luizhbfilho/modelagem-de-fenomenos-fisicos/blob/main/juros_compostos.ipynb\" target=\"_parent\"><img src=\"https://colab.research.google.com/assets/colab-badge.svg\" alt=\"Open In Colab\"/></a>"
      ]
    },
    {
      "cell_type": "code",
      "execution_count": 5,
      "metadata": {
        "id": "e6mG6Mpr91fB"
      },
      "outputs": [],
      "source": [
        "import math\n",
        "import time\n"
      ]
    },
    {
      "cell_type": "code",
      "source": [
        "# Definindo variáveis\n",
        "valor_inicial = float(input(\"Digite o valor inicial: \"))\n",
        "taxa_juros = float(input(\"Digite a taxa de juros anual: \"))\n",
        "numero_anos = int(input(\"Digite o número de anos: \"))\n",
        "\n",
        "# Função para calcular o montante\n",
        "def montante(valor_inicial, taxa_juros, numero_anos):\n",
        "  return valor_inicial * math.pow((1 + taxa_juros), numero_anos)\n",
        "\n",
        "# Imprimindo resultados\n",
        "print(\"Ano\", \"Valor Inicial\", \"Montante\", \"Juros\", \"Função\")\n",
        "print(\"-\", \"-\", \"-\", \"-\", \"-\")\n",
        "\n",
        "for ano in range(1, numero_anos + 1):\n",
        "  juros = montante(valor_inicial, taxa_juros, ano) - valor_inicial\n",
        "  print(ano, valor_inicial, montante(valor_inicial, taxa_juros, ano), juros)\n",
        "\n",
        "# Imprimindo o montante final\n",
        "print(\"Montante final:\", montante(valor_inicial, taxa_juros, numero_anos))"
      ],
      "metadata": {
        "colab": {
          "base_uri": "https://localhost:8080/"
        },
        "id": "IulJkqz6ApDN",
        "outputId": "3e529aea-46e6-4dad-f2ae-9935d1de41c3"
      },
      "execution_count": 8,
      "outputs": [
        {
          "output_type": "stream",
          "name": "stdout",
          "text": [
            "Digite o valor inicial: 1000\n",
            "Digite a taxa de juros anual: 0.8\n",
            "Digite o número de anos: 10\n",
            "Ano Valor Inicial Montante Juros Função\n",
            "- - - - -\n",
            "1 1000.0 1800.0 800.0\n",
            "2 1000.0 3240.0 2240.0\n",
            "3 1000.0 5832.000000000001 4832.000000000001\n",
            "4 1000.0 10497.6 9497.6\n",
            "5 1000.0 18895.680000000004 17895.680000000004\n",
            "6 1000.0 34012.224 33012.224\n",
            "7 1000.0 61222.003200000014 60222.003200000014\n",
            "8 1000.0 110199.60576000002 109199.60576000002\n",
            "9 1000.0 198359.29036800005 197359.29036800005\n",
            "10 1000.0 357046.7226624001 356046.7226624001\n",
            "Montante final: 357046.7226624001\n"
          ]
        }
      ]
    },
    {
      "cell_type": "code",
      "source": [
        "# Definindo variáveis\n",
        "valor_inicial = float(input(\"Digite o valor inicial: \"))\n",
        "taxa_juros = float(input(\"Digite a taxa de juros anual: \"))\n",
        "numero_anos = int(input(\"Digite o número de anos: \"))\n",
        "\n",
        "# Iniciando o cronômetro\n",
        "inicio = time.perf_counter_ns()\n",
        "\n",
        "# Calculando o montante\n",
        "montante = valor_inicial * math.pow((1 + taxa_juros), numero_anos)\n",
        "\n",
        "# Parando o cronômetro\n",
        "fim = time.perf_counter_ns()\n",
        "\n",
        "# Calculando o tempo decorrido\n",
        "tempo_decorrido = fim - inicio\n",
        "\n",
        "# Imprimindo o resultado\n",
        "print(f\"Tempo decorrido: {tempo_decorrido} nanossegundos\")\n",
        "print(f\"Montante: {montante}\")"
      ],
      "metadata": {
        "colab": {
          "base_uri": "https://localhost:8080/"
        },
        "id": "p6zqLRuiBx-V",
        "outputId": "82113807-92ad-40d8-a386-d11fc198f302"
      },
      "execution_count": 6,
      "outputs": [
        {
          "output_type": "stream",
          "name": "stdout",
          "text": [
            "Digite o valor inicial: 1000\n",
            "Digite a taxa de juros anual: 0.1\n",
            "Digite o número de anos: 10\n",
            "Tempo decorrido: 138615 nanossegundos\n",
            "Montante: 2593.7424601000025\n"
          ]
        }
      ]
    }
  ]
}